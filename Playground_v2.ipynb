{
 "cells": [
  {
   "cell_type": "code",
   "execution_count": 15,
   "metadata": {
    "collapsed": false
   },
   "outputs": [
    {
     "name": "stdout",
     "output_type": "stream",
     "text": [
      "Populating the interactive namespace from numpy and matplotlib\n"
     ]
    },
    {
     "name": "stderr",
     "output_type": "stream",
     "text": [
      "WARNING: pylab import has clobbered these variables: ['gray']\n",
      "`%matplotlib` prevents importing * from pylab and numpy\n"
     ]
    }
   ],
   "source": [
    "# Učitaj osnovne biblioteke...\n",
    "import scipy as sp\n",
    "import sklearn\n",
    "import itertools\n",
    "import cv2\n",
    "import numpy as np\n",
    "\n",
    "import scipy.ndimage as ndimage\n",
    "import scipy.ndimage.filters as filters\n",
    "\n",
    "%pylab inline"
   ]
  },
  {
   "cell_type": "code",
   "execution_count": 16,
   "metadata": {
    "collapsed": true
   },
   "outputs": [],
   "source": [
    "def preprocess_image(image, max_width=640/2, max_height = 480/2):\n",
    "    factor = 1\n",
    "    if image.shape[0]>max_height:\n",
    "        factor = max_height/float(image.shape[0])\n",
    "    if image.shape[1]>max_width:\n",
    "        f2 = max_width/float(image.shape[1])\n",
    "        factor = f2 if f2 <factor else factor\n",
    "    resized = cv2.resize(image,(0,0),fx=factor,fy=factor,interpolation=cv2.INTER_CUBIC) if factor <1 else image\n",
    "    gray = cv2.cvtColor(resized,cv2.COLOR_BGR2GRAY)\n",
    "    return resized,gray"
   ]
  },
  {
   "cell_type": "code",
   "execution_count": 17,
   "metadata": {
    "collapsed": true
   },
   "outputs": [],
   "source": [
    "def symmetry_score_for_pixel(scan_line, index, width, kernel):\n",
    "    left = scan_line[index-width:index].astype(float)\n",
    "    right = np.flipud(scan_line[index:index+width]).astype(float)\n",
    "    diff = np.abs(left - right)\n",
    "    return diff.dot(kernel)"
   ]
  },
  {
   "cell_type": "code",
   "execution_count": 18,
   "metadata": {
    "collapsed": true
   },
   "outputs": [],
   "source": [
    "def symmetry_scores_on_line(whole_image, height_index=400, width = 100):\n",
    "    scan_line = whole_image[height_index,:]\n",
    "    X = range(width,len(scan_line)-width)\n",
    "    kernel = cv2.getGaussianKernel(width*2,0)[width:]*2\n",
    "    return np.squeeze(np.array([symmetry_score_for_pixel(scan_line,index,width,kernel) for index in X]))"
   ]
  },
  {
   "cell_type": "code",
   "execution_count": 19,
   "metadata": {
    "collapsed": false
   },
   "outputs": [],
   "source": [
    "def symmetry_scores_map(image,width):#,verbose=False):\n",
    "    img = np.zeros(image.shape[1] - width*2)\n",
    "    for num in xrange(1,image.shape[0]):\n",
    "        results = symmetry_scores_on_line(image,num,width)\n",
    "        img = np.vstack((img,results))\n",
    "    img = img.astype(np.float32)\n",
    "    padding = np.zeros((img.shape[0],width))\n",
    "    return np.hstack((padding,img,padding))#[:,w:img.shape[1]-w]"
   ]
  },
  {
   "cell_type": "code",
   "execution_count": 20,
   "metadata": {
    "collapsed": false
   },
   "outputs": [
    {
     "name": "stdout",
     "output_type": "stream",
     "text": [
      "[  1.           1.41421356   2.           2.82842712   4.           5.65685425\n",
      "   8.          11.3137085   16.          22.627417    32.        ]\n"
     ]
    }
   ],
   "source": [
    "sigmas = logspace(0,10,11,base=np.sqrt(2))\n",
    "print sigmas"
   ]
  },
  {
   "cell_type": "code",
   "execution_count": 21,
   "metadata": {
    "collapsed": false
   },
   "outputs": [
    {
     "ename": "NameError",
     "evalue": "global name 'dog_map_mult' is not defined",
     "output_type": "error",
     "traceback": [
      "\u001b[1;31m---------------------------------------------------------------------------\u001b[0m",
      "\u001b[1;31mNameError\u001b[0m                                 Traceback (most recent call last)",
      "\u001b[1;32m<ipython-input-21-ae69f466a170>\u001b[0m in \u001b[0;36m<module>\u001b[1;34m()\u001b[0m\n\u001b[0;32m     42\u001b[0m \u001b[1;33m\u001b[0m\u001b[0m\n\u001b[0;32m     43\u001b[0m \u001b[0msym_map_horizontal\u001b[0m \u001b[1;33m=\u001b[0m \u001b[0msymmetry_scores_map\u001b[0m\u001b[1;33m(\u001b[0m\u001b[0mgray_image\u001b[0m\u001b[1;33m,\u001b[0m\u001b[0mwidth\u001b[0m\u001b[1;33m)\u001b[0m\u001b[1;33m\u001b[0m\u001b[0m\n\u001b[1;32m---> 44\u001b[1;33m \u001b[0mdog_maps_mult_horizontal\u001b[0m \u001b[1;33m=\u001b[0m \u001b[0mcalculate_dog_maps_mult\u001b[0m\u001b[1;33m(\u001b[0m\u001b[0msym_map_horizontal\u001b[0m\u001b[1;33m,\u001b[0m\u001b[0msigmas\u001b[0m\u001b[1;33m)\u001b[0m\u001b[1;33m\u001b[0m\u001b[0m\n\u001b[0m\u001b[0;32m     45\u001b[0m \u001b[0msym_map_vertical\u001b[0m \u001b[1;33m=\u001b[0m \u001b[0msymmetry_scores_map\u001b[0m\u001b[1;33m(\u001b[0m\u001b[0mgray_image\u001b[0m\u001b[1;33m.\u001b[0m\u001b[0mT\u001b[0m\u001b[1;33m,\u001b[0m\u001b[0mwidth\u001b[0m\u001b[1;33m)\u001b[0m\u001b[1;33m\u001b[0m\u001b[0m\n\u001b[0;32m     46\u001b[0m \u001b[0mdog_maps_mult_vertical\u001b[0m \u001b[1;33m=\u001b[0m \u001b[0mcalculate_dog_maps_mult\u001b[0m\u001b[1;33m(\u001b[0m\u001b[0msym_map_vertical\u001b[0m\u001b[1;33m,\u001b[0m\u001b[0msigmas\u001b[0m\u001b[1;33m)\u001b[0m\u001b[1;33m\u001b[0m\u001b[0m\n",
      "\u001b[1;32m<ipython-input-21-ae69f466a170>\u001b[0m in \u001b[0;36mcalculate_dog_maps_mult\u001b[1;34m(sym_map, sigmas)\u001b[0m\n\u001b[0;32m     36\u001b[0m         \u001b[0mdog_maps_mult\u001b[0m\u001b[1;33m.\u001b[0m\u001b[0mappend\u001b[0m\u001b[1;33m(\u001b[0m\u001b[0mdog_map\u001b[0m \u001b[1;33m*\u001b[0m \u001b[0mdog_map_old\u001b[0m\u001b[1;33m)\u001b[0m\u001b[1;33m\u001b[0m\u001b[0m\n\u001b[0;32m     37\u001b[0m \u001b[1;33m\u001b[0m\u001b[0m\n\u001b[1;32m---> 38\u001b[1;33m         \u001b[0mpretty_show\u001b[0m\u001b[1;33m(\u001b[0m\u001b[0mcv2\u001b[0m\u001b[1;33m.\u001b[0m\u001b[0mCanny\u001b[0m\u001b[1;33m(\u001b[0m\u001b[0mdog_map_mult\u001b[0m\u001b[1;33m,\u001b[0m\u001b[1;36m50\u001b[0m\u001b[1;33m,\u001b[0m\u001b[1;36m150\u001b[0m\u001b[1;33m,\u001b[0m\u001b[0mapertureSize\u001b[0m \u001b[1;33m=\u001b[0m \u001b[1;36m3\u001b[0m\u001b[1;33m)\u001b[0m\u001b[1;33m)\u001b[0m\u001b[1;33m\u001b[0m\u001b[0m\n\u001b[0m\u001b[0;32m     39\u001b[0m     \u001b[1;32mreturn\u001b[0m \u001b[0mdog_maps_mult\u001b[0m\u001b[1;33m\u001b[0m\u001b[0m\n\u001b[0;32m     40\u001b[0m \u001b[1;33m\u001b[0m\u001b[0m\n",
      "\u001b[1;31mNameError\u001b[0m: global name 'dog_map_mult' is not defined"
     ]
    }
   ],
   "source": [
    "\n",
    "bgr_image = cv2.imread('tor2.jpg')\n",
    "\n",
    "bgr_image, gray_image = preprocess_image(bgr_image)\n",
    "\n",
    "\n",
    "\n",
    "\n",
    "def pretty_show(img):\n",
    "    plt.figure(figsize=(20,20))\n",
    "    plt.imshow(img,cmap='gray')\n",
    "    plt.show()\n",
    "\n",
    "#pretty_show(sym_map)\n",
    "\n",
    "def calculate_dog_maps_mult(sym_map,sigmas):\n",
    "\n",
    "    dog_maps = []\n",
    "\n",
    "    kernel_size = 51\n",
    "    sym_map_blured_old = cv2.GaussianBlur(sym_map,sigmaX=sigmas[0],ksize=(kernel_size,1)) \n",
    "    for sigma in sigmas[1:]:\n",
    "        sym_map_blured = cv2.GaussianBlur(sym_map,sigmaX=sigma,ksize=(kernel_size,1))\n",
    "        dog_map = sym_map_blured - sym_map_blured_old\n",
    "        dog_map[dog_map<0] = 0\n",
    "        dog_maps.append(dog_map)\n",
    "        #pretty_show(dog_map)\n",
    "\n",
    "\n",
    "        sym_map_blured_old = sym_map_blured\n",
    "\n",
    "\n",
    "    dog_maps_mult=[]\n",
    "    dog_map_old = dog_maps[0]\n",
    "    for dog_map in dog_maps[1:]:\n",
    "        dog_maps_mult.append(dog_map * dog_map_old)\n",
    "        \n",
    "        pretty_show(cv2.Canny(dog_map_mult,50,150,apertureSize = 3))\n",
    "    return dog_maps_mult\n",
    "\n",
    "width = 32\n",
    "\n",
    "sym_map_horizontal = symmetry_scores_map(gray_image,width)\n",
    "dog_maps_mult_horizontal = calculate_dog_maps_mult(sym_map_horizontal,sigmas)\n",
    "sym_map_vertical = symmetry_scores_map(gray_image.T,width)\n",
    "dog_maps_mult_vertical = calculate_dog_maps_mult(sym_map_vertical,sigmas)\n",
    "\n",
    "suma_sumarum = dog_maps_mult_horizontal[0]*dog_maps_mult_vertical[0].T\n",
    "for a,b in zip(dog_maps_mult_horizontal[1:],dog_maps_mult_vertical[1:]):\n",
    "    \n",
    "    plt.figure(figsize=(20,20))\n",
    "    plt.subplot(121),plt.imshow(a,cmap='gray')   \n",
    "    plt.subplot(122),plt.imshow(b.T,cmap='gray')\n",
    "    plt.show()\n",
    "\n",
    "    suma_sumarum+=a*b.T\n",
    "\n",
    "pretty_show(suma_sumarum)\n",
    "\n"
   ]
  },
  {
   "cell_type": "code",
   "execution_count": 22,
   "metadata": {
    "collapsed": false
   },
   "outputs": [
    {
     "ename": "SyntaxError",
     "evalue": "invalid syntax (<ipython-input-22-1c66c5d22ac9>, line 1)",
     "output_type": "error",
     "traceback": [
      "\u001b[1;36m  File \u001b[1;32m\"<ipython-input-22-1c66c5d22ac9>\"\u001b[1;36m, line \u001b[1;32m1\u001b[0m\n\u001b[1;33m    def process_symmetry_scores(img)#,verbose = False):\u001b[0m\n\u001b[1;37m                                                       ^\u001b[0m\n\u001b[1;31mSyntaxError\u001b[0m\u001b[1;31m:\u001b[0m invalid syntax\n"
     ]
    }
   ],
   "source": [
    "def process_symmetry_scores(img)#,verbose = False):\n",
    "    kernel_size= 11\n",
    "    img = cv2.GaussianBlur(img,sigmaX=0,ksize=(kernel_size,1)) \n",
    "    img = cv2.Sobel(img,cv2.CV_32F,2,0,ksize=kernel_size)\n",
    "    \n",
    "    #if verbose:\n",
    "    #    plt.figure(figsize=(10,10))\n",
    "    #    plt.imshow(img,cmap='gray')\n",
    "    #    plt.show()\n",
    "    return img"
   ]
  },
  {
   "cell_type": "code",
   "execution_count": 23,
   "metadata": {
    "collapsed": true
   },
   "outputs": [],
   "source": [
    "def process_image(bgr_image,w,verbose = True):\n",
    "   \n",
    "    gray_image = cv2.cvtColor(bgr_image,cv2.COLOR_BGR2GRAY)\n",
    "    gray_image = cv2.GaussianBlur(gray_image,sigmaX=0,ksize=(3,3)) \n",
    "    \n",
    "    if bgr_image.shape[1] -2*w<= 0 or bgr_image.shape[0]-2*w<=0:\n",
    "        return\n",
    "    \n",
    "    processed_map_horizontal = symmetry_scores_in_image(gray_image,w,verbose)\n",
    "    \n",
    "    processed_map_vertical = symmetry_scores_in_image(gray_image.T,w,verbose)\n",
    "    \n",
    "    \n",
    "    processed_map_horizontal[processed_map_horizontal<0]=0\n",
    "    processed_map_vertical[processed_map_vertical<0]=0\n",
    "    processed_map = processed_map_horizontal*processed_map_vertical.T\n",
    "    processed_map = processed_map.astype(np.float32)\n",
    "    processed_map[processed_map<np.max(processed_map)*0.4] = 0\n",
    "    \n",
    "    neighborhood_size = 5\n",
    "    threshold = 0\n",
    "\n",
    "    data = processed_map\n",
    "\n",
    "    data_max = filters.maximum_filter(data, neighborhood_size)\n",
    "    maxima = (data == data_max)\n",
    "    data_min = filters.minimum_filter(data, neighborhood_size)\n",
    "    diff = ((data_max - data_min) > threshold)\n",
    "    maxima[diff == 0] = 0\n",
    "\n",
    "    labeled, num_objects = ndimage.label(maxima)\n",
    "    xy = np.array(ndimage.center_of_mass(data, labeled, range(1, num_objects+1)))\n",
    "    if verbose:\n",
    "        cv2.imshow(\"s\",processed_map)\n",
    "        plt.imshow(processed_map_horizontal,cmap='gray')\n",
    "        plt.show()\n",
    "        plt.imshow(processed_map_vertical,cmap='gray')\n",
    "        plt.show()\n",
    "        \n",
    "        \n",
    "        print \"Feature count: \"+str(len(xy))\n",
    "\n",
    "        plt.imshow(processed_map,cmap='gray')    \n",
    "        \n",
    "        plt.scatter(xy[:, 1], xy[:, 0],marker='+',c='r')\n",
    "        plt.show()\n",
    "        \n",
    "        plt.figure(figsize=(15,15.0/(640.0/480.0)))\n",
    "        imgg = bgr_image.copy()\n",
    "        imgg = cv2.resize(imgg,(0,0),fx=2,fy=2)\n",
    "        for l in xy:\n",
    "            cv2.circle(imgg,(int(l[1]*2),int(l[0]*2)),w*2,(255,0,0))\n",
    "\n",
    "\n",
    "        plt.imshow(imgg)\n",
    "\n",
    "        plt.axis([0,imgg.shape[1],imgg.shape[0],0])\n",
    "        plt.scatter(xy[:, 1]*2, xy[:, 0]*2,marker='+',c='r')\n",
    "        plt.show()\n",
    "    \n",
    "    #return process_features(gray_image,w,xy,bgr_image)"
   ]
  },
  {
   "cell_type": "code",
   "execution_count": null,
   "metadata": {
    "collapsed": true
   },
   "outputs": [],
   "source": []
  },
  {
   "cell_type": "code",
   "execution_count": null,
   "metadata": {
    "collapsed": true
   },
   "outputs": [],
   "source": []
  },
  {
   "cell_type": "code",
   "execution_count": 24,
   "metadata": {
    "collapsed": false
   },
   "outputs": [
    {
     "ename": "AttributeError",
     "evalue": "'NoneType' object has no attribute 'shape'",
     "output_type": "error",
     "traceback": [
      "\u001b[1;31m---------------------------------------------------------------------------\u001b[0m",
      "\u001b[1;31mAttributeError\u001b[0m                            Traceback (most recent call last)",
      "\u001b[1;32m<ipython-input-24-14adfe8a17cd>\u001b[0m in \u001b[0;36m<module>\u001b[1;34m()\u001b[0m\n\u001b[0;32m      2\u001b[0m \u001b[0mbgr_image\u001b[0m \u001b[1;33m=\u001b[0m \u001b[0mcv2\u001b[0m\u001b[1;33m.\u001b[0m\u001b[0mimread\u001b[0m\u001b[1;33m(\u001b[0m\u001b[1;34m'notredame16/02.jpg'\u001b[0m\u001b[1;33m)\u001b[0m\u001b[1;33m\u001b[0m\u001b[0m\n\u001b[0;32m      3\u001b[0m \u001b[1;33m\u001b[0m\u001b[0m\n\u001b[1;32m----> 4\u001b[1;33m \u001b[0mbgr_image\u001b[0m \u001b[1;33m=\u001b[0m \u001b[0mpreprocess_image\u001b[0m\u001b[1;33m(\u001b[0m\u001b[0mbgr_image\u001b[0m\u001b[1;33m)\u001b[0m\u001b[1;33m\u001b[0m\u001b[0m\n\u001b[0m\u001b[0;32m      5\u001b[0m \u001b[0mprocess_image\u001b[0m\u001b[1;33m(\u001b[0m\u001b[0mbgr_image\u001b[0m\u001b[1;33m,\u001b[0m\u001b[1;36m32\u001b[0m\u001b[1;33m)\u001b[0m\u001b[1;33m;\u001b[0m\u001b[1;33m\u001b[0m\u001b[0m\n",
      "\u001b[1;32m<ipython-input-16-5cb5907d2179>\u001b[0m in \u001b[0;36mpreprocess_image\u001b[1;34m(image, max_width, max_height)\u001b[0m\n\u001b[0;32m      1\u001b[0m \u001b[1;32mdef\u001b[0m \u001b[0mpreprocess_image\u001b[0m\u001b[1;33m(\u001b[0m\u001b[0mimage\u001b[0m\u001b[1;33m,\u001b[0m \u001b[0mmax_width\u001b[0m\u001b[1;33m=\u001b[0m\u001b[1;36m640\u001b[0m\u001b[1;33m/\u001b[0m\u001b[1;36m2\u001b[0m\u001b[1;33m,\u001b[0m \u001b[0mmax_height\u001b[0m \u001b[1;33m=\u001b[0m \u001b[1;36m480\u001b[0m\u001b[1;33m/\u001b[0m\u001b[1;36m2\u001b[0m\u001b[1;33m)\u001b[0m\u001b[1;33m:\u001b[0m\u001b[1;33m\u001b[0m\u001b[0m\n\u001b[0;32m      2\u001b[0m     \u001b[0mfactor\u001b[0m \u001b[1;33m=\u001b[0m \u001b[1;36m1\u001b[0m\u001b[1;33m\u001b[0m\u001b[0m\n\u001b[1;32m----> 3\u001b[1;33m     \u001b[1;32mif\u001b[0m \u001b[0mimage\u001b[0m\u001b[1;33m.\u001b[0m\u001b[0mshape\u001b[0m\u001b[1;33m[\u001b[0m\u001b[1;36m0\u001b[0m\u001b[1;33m]\u001b[0m\u001b[1;33m>\u001b[0m\u001b[0mmax_height\u001b[0m\u001b[1;33m:\u001b[0m\u001b[1;33m\u001b[0m\u001b[0m\n\u001b[0m\u001b[0;32m      4\u001b[0m         \u001b[0mfactor\u001b[0m \u001b[1;33m=\u001b[0m \u001b[0mmax_height\u001b[0m\u001b[1;33m/\u001b[0m\u001b[0mfloat\u001b[0m\u001b[1;33m(\u001b[0m\u001b[0mimage\u001b[0m\u001b[1;33m.\u001b[0m\u001b[0mshape\u001b[0m\u001b[1;33m[\u001b[0m\u001b[1;36m0\u001b[0m\u001b[1;33m]\u001b[0m\u001b[1;33m)\u001b[0m\u001b[1;33m\u001b[0m\u001b[0m\n\u001b[0;32m      5\u001b[0m     \u001b[1;32mif\u001b[0m \u001b[0mimage\u001b[0m\u001b[1;33m.\u001b[0m\u001b[0mshape\u001b[0m\u001b[1;33m[\u001b[0m\u001b[1;36m1\u001b[0m\u001b[1;33m]\u001b[0m\u001b[1;33m>\u001b[0m\u001b[0mmax_width\u001b[0m\u001b[1;33m:\u001b[0m\u001b[1;33m\u001b[0m\u001b[0m\n",
      "\u001b[1;31mAttributeError\u001b[0m: 'NoneType' object has no attribute 'shape'"
     ]
    }
   ],
   "source": [
    "\n",
    "bgr_image = cv2.imread('notredame16/02.jpg')\n",
    "\n",
    "bgr_image = preprocess_image(bgr_image)\n",
    "process_image(bgr_image,32);"
   ]
  },
  {
   "cell_type": "code",
   "execution_count": null,
   "metadata": {
    "collapsed": true
   },
   "outputs": [],
   "source": []
  },
  {
   "cell_type": "code",
   "execution_count": 25,
   "metadata": {
    "collapsed": false
   },
   "outputs": [],
   "source": [
    "\n",
    "\n",
    "filename = 'tor2.jpg'\n",
    "img = cv2.imread(filename)\n",
    "gray = cv2.cvtColor(img,cv2.COLOR_BGR2GRAY)\n",
    "\n",
    "gray = np.float32(gray)\n",
    "dst = cv2.cornerHarris(gray,10,3,0.000001)\n",
    "\n",
    "#result is dilated for marking the corners, not important\n",
    "dst = cv2.dilate(dst,None)\n",
    "\n",
    "# Threshold for an optimal value, it may vary depending on the image.\n",
    "img[dst>0.01*dst.max()]=[0,0,255]\n",
    "\n",
    "cv2.imshow('dst',img)\n",
    "if cv2.waitKey(0) & 0xff == 27:\n",
    "    cv2.destroyAllWindows()"
   ]
  },
  {
   "cell_type": "code",
   "execution_count": 26,
   "metadata": {
    "collapsed": false
   },
   "outputs": [
    {
     "data": {
      "text/plain": [
       "True"
      ]
     },
     "execution_count": 26,
     "metadata": {},
     "output_type": "execute_result"
    }
   ],
   "source": [
    "\n",
    "img = cv2.imread('tor2.jpg')\n",
    "gray = cv2.cvtColor(img,cv2.COLOR_BGR2GRAY)\n",
    "edges = cv2.Canny(gray,50,150,apertureSize = 3)\n",
    "\n",
    "lines = cv2.HoughLines(edges,1,np.pi/180,200)\n",
    "for rho,theta in lines[0]:\n",
    "    a = np.cos(theta)\n",
    "    b = np.sin(theta)\n",
    "    x0 = a*rho\n",
    "    y0 = b*rho\n",
    "    x1 = int(x0 + 1000*(-b))\n",
    "    y1 = int(y0 + 1000*(a))\n",
    "    x2 = int(x0 - 1000*(-b))\n",
    "    y2 = int(y0 - 1000*(a))\n",
    "\n",
    "    cv2.line(img,(x1,y1),(x2,y2),(0,0,255),2)\n",
    "\n",
    "cv2.imwrite('houghlines3.jpg',img)"
   ]
  },
  {
   "cell_type": "code",
   "execution_count": null,
   "metadata": {
    "collapsed": true
   },
   "outputs": [],
   "source": []
  },
  {
   "cell_type": "code",
   "execution_count": null,
   "metadata": {
    "collapsed": true
   },
   "outputs": [],
   "source": []
  }
 ],
 "metadata": {
  "kernelspec": {
   "display_name": "Python 2",
   "language": "python2",
   "name": "python2"
  },
  "language_info": {
   "codemirror_mode": {
    "name": "ipython",
    "version": 2
   },
   "file_extension": ".py",
   "mimetype": "text/x-python",
   "name": "python",
   "nbconvert_exporter": "python",
   "pygments_lexer": "ipython2",
   "version": "2.7.10"
  }
 },
 "nbformat": 4,
 "nbformat_minor": 0
}
