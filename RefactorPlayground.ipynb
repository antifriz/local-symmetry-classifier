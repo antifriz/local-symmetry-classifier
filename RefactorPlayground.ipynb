{
 "cells": [
  {
   "cell_type": "markdown",
   "metadata": {},
   "source": [
    "# Pronalaženje značajki"
   ]
  },
  {
   "cell_type": "code",
   "execution_count": 149,
   "metadata": {
    "collapsed": false
   },
   "outputs": [],
   "source": [
    "class FeatureExtractor:\n",
    "           \n",
    "    def extractFeatures(self, image):# returns Feature[] for one image\n",
    "        \n",
    "        features_all = []\n",
    "        i=7\n",
    "        while True:\n",
    "            w = np.power(2,i)\n",
    "            if image.res_grayscale_image.shape[0] < 2*w:\n",
    "                break\n",
    "            \n",
    "            \n",
    "            xy = process_image(image, w)\n",
    "            features = process_features(xy, w, image)\n",
    "            \n",
    "            if len(features)==0:\n",
    "                break\n",
    "            \n",
    "            features_all.extend(features)\n",
    "            i=i+1;\n",
    "\n",
    "        print \"Feature count: \"+str(len(features_all))\n",
    "        return features_all   #, feature_map\n",
    "\n",
    "    def extractFeaturesMulti(self, images):# returns Feature[] for set of images\n",
    "        feature_list = []\n",
    "        \n",
    "        for image in images:\n",
    "            features = self.extractFeatures(image)\n",
    "            feature_list.extend(features);\n",
    "        \n",
    "        return feature_list;"
   ]
  },
  {
   "cell_type": "markdown",
   "metadata": {},
   "source": [
    "## Pomoćne funkcije za pronalaženje značajki"
   ]
  },
  {
   "cell_type": "code",
   "execution_count": 150,
   "metadata": {
    "collapsed": true
   },
   "outputs": [],
   "source": [
    "import scipy.ndimage as ndimage\n",
    "import scipy.ndimage.filters as filters\n",
    "\n",
    "\n",
    "def symmetry_factor(scan_line, index, width, kernel):\n",
    "    left = scan_line[index-width:index].astype(float)\n",
    "    right = np.flipud(scan_line[index:index+width]).astype(float)\n",
    "    diff = np.abs(left - right)\n",
    "    return diff.dot(kernel) #+255- np.std(left)+255 - np.std(right)#np.average(diff) \n",
    "\n",
    "def scan_whole_line(whole_image, height_index=400, width = 100):\n",
    "    scan_line = whole_image[height_index,:]\n",
    "    X = range(width,len(scan_line)-width)\n",
    "    kernel = cv2.getGaussianKernel(width*2,0)[width:]*2\n",
    "    return np.squeeze(np.array([symmetry_factor(scan_line,index,width,kernel) for index in X]))\n",
    "\n",
    "def unique_rows(a,orderBy):\n",
    "    order = np.lexsort(orderBy.T)\n",
    "    a = a[order]\n",
    "    orderBy = orderBy[order]\n",
    "    diff = np.diff(orderBy, axis=0)\n",
    "    ui = np.ones(len(orderBy), 'bool')\n",
    "    ui[1:] = (diff != 0).any(axis=1) \n",
    "    return a[ui]\n",
    "\n",
    "def create_symmetry_map(image,width,verbose=False):\n",
    "    print width\n",
    "    img = np.zeros(image.shape[1] - width*2)\n",
    "    for num in xrange(1,image.shape[0]):\n",
    "        results = scan_whole_line(image,num,width)\n",
    "        img = np.vstack((img,results))\n",
    "    img = img.astype(np.float32)\n",
    "    kernel_size= 11\n",
    "    if verbose:\n",
    "        plt.figure(figsize=(10,10))\n",
    "        plt.imshow(img,cmap='gray')\n",
    "        plt.show()\n",
    "    img = cv2.GaussianBlur(img,sigmaX=0,ksize=(kernel_size,1)) \n",
    "    img = cv2.Sobel(img,cv2.CV_32F,2,0,ksize=kernel_size)\n",
    "    padding = np.zeros((img.shape[0],width))\n",
    "    \n",
    "    if verbose:\n",
    "        plt.figure(figsize=(10,10))\n",
    "        plt.imshow(img,cmap='gray')\n",
    "\n",
    "        plt.show()\n",
    "    return np.hstack((padding,img,padding))\n",
    "\n",
    "\n",
    "def process_image(image, w):\n",
    "\n",
    "    processed_map_horizontal = create_symmetry_map(image.res_grayscale_image,w)\n",
    "\n",
    "    processed_map_vertical = create_symmetry_map(image.res_grayscale_image.T,w)\n",
    "\n",
    "    processed_map_horizontal[processed_map_horizontal<0]=0\n",
    "    processed_map_vertical[processed_map_vertical<0]=0\n",
    "    processed_map = processed_map_horizontal*processed_map_vertical.T\n",
    "    processed_map = processed_map.astype(np.float32)\n",
    "    processed_map[processed_map<np.max(processed_map)*0.0] = 0\n",
    "\n",
    "    neighborhood_size = 5\n",
    "    threshold = 0\n",
    "\n",
    "    data = processed_map\n",
    "\n",
    "    data_max = filters.maximum_filter(data, neighborhood_size)\n",
    "    maxima = (data == data_max)\n",
    "    data_min = filters.minimum_filter(data, neighborhood_size)\n",
    "    diff = ((data_max - data_min) > threshold)\n",
    "    maxima[diff == 0] = 0\n",
    "\n",
    "    labeled, num_objects = ndimage.label(maxima)\n",
    "    xy = np.array(ndimage.center_of_mass(data, labeled, range(1, num_objects+1)))\n",
    "\n",
    "    return xy\n",
    "\n",
    "def process_features(features, width, image):\n",
    "\n",
    "    assert width in [np.power(2,i) for i in xrange(0,10)]\n",
    "    feature_vectors = []\n",
    "\n",
    "    for feature_y, feature_x in features:\n",
    "        scan_line = image.res_grayscale_image[feature_y,:]\n",
    "        index = feature_x\n",
    "\n",
    "        left = scan_line[index-width:index].astype(float)\n",
    "        right = np.flipud(scan_line[index:index+width]).astype(float)\n",
    "\n",
    "        avg_line = (left + right)/2\n",
    "        avg_value = np.average(avg_line)\n",
    "\n",
    "        feature_vector = avg_line<avg_value\n",
    "\n",
    "        feature_vector = sp.ndimage.zoom(feature_vector, 128/float(width), order=0).astype(int)\n",
    "\n",
    "        feature_vectors.append(Feature(feature_vector, feature_x, feature_y,image, image.id_building, width))                            \n",
    "\n",
    "    return feature_vectors\n"
   ]
  },
  {
   "cell_type": "markdown",
   "metadata": {},
   "source": [
    "# Test area 51"
   ]
  },
  {
   "cell_type": "code",
   "execution_count": 151,
   "metadata": {
    "collapsed": false
   },
   "outputs": [
    {
     "name": "stdout",
     "output_type": "stream",
     "text": [
      "Populating the interactive namespace from numpy and matplotlib\n"
     ]
    }
   ],
   "source": [
    "import scipy as sp\n",
    "import sklearn\n",
    "import itertools\n",
    "import cv2\n",
    "import numpy as np\n",
    "\n",
    "%pylab inline"
   ]
  },
  {
   "cell_type": "code",
   "execution_count": 152,
   "metadata": {
    "collapsed": true
   },
   "outputs": [],
   "source": [
    "def pretty_show(img):\n",
    "    plt.figure(figsize=(20,20))\n",
    "    plt.imshow(img,cmap='gray')\n",
    "    plt.show()"
   ]
  },
  {
   "cell_type": "code",
   "execution_count": 153,
   "metadata": {
    "collapsed": false
   },
   "outputs": [],
   "source": [
    "del preprocess_image\n",
    "def preprocess_image(image, max_width=640, max_height = 480):\n",
    "    factor = 1\n",
    "    if image.shape[0]>max_height:\n",
    "        factor = max_height/float(image.shape[0])\n",
    "    if image.shape[1]>max_width:\n",
    "        f2 = max_width/float(image.shape[1])\n",
    "        factor = f2 if f2 <factor else factor\n",
    "    resized = cv2.resize(image,(0,0),fx=factor,fy=factor,interpolation=cv2.INTER_CUBIC) if factor <1 else image\n",
    "    gray = cv2.cvtColor(resized,cv2.COLOR_BGR2GRAY)\n",
    "    return resized,gray"
   ]
  },
  {
   "cell_type": "code",
   "execution_count": 154,
   "metadata": {
    "collapsed": true
   },
   "outputs": [],
   "source": [
    "class Feature:\n",
    "    def __init__(self, hashFeatures, x, y, image, id_building, w):\n",
    "        self.hashFeatures = hashFeatures\n",
    "        self.x = x\n",
    "        self.y = y\n",
    "        self.image = image\n",
    "        self.id_building = id_building\n",
    "        self.w = w\n",
    "        \n",
    "    def __str__(self):\n",
    "        return str(self.hashFeatures)\n",
    "    \n",
    "class Image:\n",
    "    def __init__(self, path, max_width, max_height, id_building):\n",
    "        self.path = path\n",
    "        self.image = cv2.imread(path)\n",
    "        self.resized_image, self.res_grayscale_image = preprocess_image(self.image, max_width, max_height)\n",
    "        self.id_building = id_building"
   ]
  },
  {
   "cell_type": "code",
   "execution_count": 155,
   "metadata": {
    "collapsed": false
   },
   "outputs": [],
   "source": [
    "train_image_paths = [\n",
    "    'angle.jpg',\n",
    "    'angle2.jpg',\n",
    "    'angle3.jpg',\n",
    "    'ne_notredame.jpg',\n",
    "    'angle4.jpg',\n",
    "    'angle5.jpg',\n",
    "    'tor2.jpg',\n",
    "    'tor3.jpg',\n",
    "    'tor4.jpg'\n",
    "]\n",
    "images = []\n",
    "j=1;\n",
    "for i in train_image_paths:\n",
    "    images.append(Image(i, 640, 480, j))\n",
    "    j=j+1"
   ]
  },
  {
   "cell_type": "code",
   "execution_count": 156,
   "metadata": {
    "collapsed": false
   },
   "outputs": [
    {
     "name": "stdout",
     "output_type": "stream",
     "text": [
      "128\n",
      "128\n",
      "Feature count: 341\n",
      "128\n",
      "128\n",
      "Feature count: 244\n",
      "128\n",
      "128\n",
      "Feature count: 299\n",
      "128\n",
      "128\n",
      "Feature count: 340\n",
      "128\n",
      "128\n",
      "Feature count: 321\n",
      "128\n",
      "128\n",
      "Feature count: 346\n",
      "128\n",
      "128\n",
      "Feature count: 345\n",
      "Feature count: 0\n",
      "128\n",
      "128\n",
      "Feature count: 583\n"
     ]
    },
    {
     "name": "stderr",
     "output_type": "stream",
     "text": [
      "C:\\Users\\Matea\\Anaconda2\\lib\\site-packages\\ipykernel\\__main__.py:84: DeprecationWarning: using a non-integer number instead of an integer will result in an error in the future\n",
      "C:\\Users\\Matea\\Anaconda2\\lib\\site-packages\\ipykernel\\__main__.py:87: DeprecationWarning: using a non-integer number instead of an integer will result in an error in the future\n",
      "C:\\Users\\Matea\\Anaconda2\\lib\\site-packages\\ipykernel\\__main__.py:88: DeprecationWarning: using a non-integer number instead of an integer will result in an error in the future\n"
     ]
    }
   ],
   "source": [
    "fe = FeatureExtractor()\n",
    "\n",
    "features_all_map = fe.extractFeaturesMulti(images)\n"
   ]
  },
  {
   "cell_type": "code",
   "execution_count": null,
   "metadata": {
    "collapsed": true
   },
   "outputs": [],
   "source": []
  },
  {
   "cell_type": "code",
   "execution_count": null,
   "metadata": {
    "collapsed": true
   },
   "outputs": [],
   "source": []
  }
 ],
 "metadata": {
  "kernelspec": {
   "display_name": "Python 2",
   "language": "python",
   "name": "python2"
  },
  "language_info": {
   "codemirror_mode": {
    "name": "ipython",
    "version": 2
   },
   "file_extension": ".py",
   "mimetype": "text/x-python",
   "name": "python",
   "nbconvert_exporter": "python",
   "pygments_lexer": "ipython2",
   "version": "2.7.11"
  }
 },
 "nbformat": 4,
 "nbformat_minor": 0
}
