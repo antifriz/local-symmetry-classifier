version https://git-lfs.github.com/spec/v1
oid sha256:b37e551fe2d38b29a401e1c12c9e340685e4c1ce1e609a75dc568a58f26a166e
size 3720466
