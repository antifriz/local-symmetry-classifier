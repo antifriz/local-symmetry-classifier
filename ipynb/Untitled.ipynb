version https://git-lfs.github.com/spec/v1
oid sha256:db33dec455aa2c8d2e42d173092ebdbc3859ca259d308cb91877b8e0ff1556c0
size 1884369
