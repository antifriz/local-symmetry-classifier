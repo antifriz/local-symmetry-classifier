version https://git-lfs.github.com/spec/v1
oid sha256:bc361a830d30a09ddba2c284df10ab549dedd4c7a2055f791a6137a3a3428446
size 19283
