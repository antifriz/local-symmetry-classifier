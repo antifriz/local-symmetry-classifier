version https://git-lfs.github.com/spec/v1
oid sha256:88a2661bcc3a340dfd9c6dd44d12a3ac55c0b350d660541b29e8b20849d0acb0
size 18967
