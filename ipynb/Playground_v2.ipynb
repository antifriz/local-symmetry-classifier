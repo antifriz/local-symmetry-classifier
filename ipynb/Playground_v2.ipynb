version https://git-lfs.github.com/spec/v1
oid sha256:9a7d74ea22accaf6e85d06c4c274764a1507a65eb300479c4050cfa1d22b2803
size 18768
